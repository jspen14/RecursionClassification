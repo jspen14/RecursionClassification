{
  "nbformat": 4,
  "nbformat_minor": 0,
  "metadata": {
    "colab": {
      "name": "Small_Scale_Recursion_Network",
      "provenance": [],
      "collapsed_sections": []
    },
    "kernelspec": {
      "name": "python3",
      "display_name": "Python 3"
    },
    "accelerator": "GPU",
    "widgets": {
      "application/vnd.jupyter.widget-state+json": {
        "f4954f169e4141b282274b6998e27b82": {
          "model_module": "@jupyter-widgets/controls",
          "model_name": "HBoxModel",
          "state": {
            "_view_name": "HBoxView",
            "_dom_classes": [],
            "_model_name": "HBoxModel",
            "_view_module": "@jupyter-widgets/controls",
            "_model_module_version": "1.5.0",
            "_view_count": null,
            "_view_module_version": "1.5.0",
            "box_style": "",
            "layout": "IPY_MODEL_bb3119d8e3514a56af2478444e45f459",
            "_model_module": "@jupyter-widgets/controls",
            "children": [
              "IPY_MODEL_d209224816e741a9b67096b812202952",
              "IPY_MODEL_aded5ea46f5b41928cff63904a2f2c06"
            ]
          }
        },
        "bb3119d8e3514a56af2478444e45f459": {
          "model_module": "@jupyter-widgets/base",
          "model_name": "LayoutModel",
          "state": {
            "_view_name": "LayoutView",
            "grid_template_rows": null,
            "right": null,
            "justify_content": null,
            "_view_module": "@jupyter-widgets/base",
            "overflow": null,
            "_model_module_version": "1.2.0",
            "_view_count": null,
            "flex_flow": null,
            "width": null,
            "min_width": null,
            "border": null,
            "align_items": null,
            "bottom": null,
            "_model_module": "@jupyter-widgets/base",
            "top": null,
            "grid_column": null,
            "overflow_y": null,
            "overflow_x": null,
            "grid_auto_flow": null,
            "grid_area": null,
            "grid_template_columns": null,
            "flex": null,
            "_model_name": "LayoutModel",
            "justify_items": null,
            "grid_row": null,
            "max_height": null,
            "align_content": null,
            "visibility": null,
            "align_self": null,
            "height": null,
            "min_height": null,
            "padding": null,
            "grid_auto_rows": null,
            "grid_gap": null,
            "max_width": null,
            "order": null,
            "_view_module_version": "1.2.0",
            "grid_template_areas": null,
            "object_position": null,
            "object_fit": null,
            "grid_auto_columns": null,
            "margin": null,
            "display": null,
            "left": null
          }
        },
        "d209224816e741a9b67096b812202952": {
          "model_module": "@jupyter-widgets/controls",
          "model_name": "IntProgressModel",
          "state": {
            "_view_name": "ProgressView",
            "style": "IPY_MODEL_b0e346faa3f047ed9a1509c5d95a7f8d",
            "_dom_classes": [],
            "description": "",
            "_model_name": "IntProgressModel",
            "bar_style": "info",
            "max": 1,
            "_view_module": "@jupyter-widgets/controls",
            "_model_module_version": "1.5.0",
            "value": 1,
            "_view_count": null,
            "_view_module_version": "1.5.0",
            "orientation": "horizontal",
            "min": 0,
            "description_tooltip": null,
            "_model_module": "@jupyter-widgets/controls",
            "layout": "IPY_MODEL_2010349524254256a1577bbfe50ef55c"
          }
        },
        "aded5ea46f5b41928cff63904a2f2c06": {
          "model_module": "@jupyter-widgets/controls",
          "model_name": "HTMLModel",
          "state": {
            "_view_name": "HTMLView",
            "style": "IPY_MODEL_ae060490c38b42189847c7c113dd14f6",
            "_dom_classes": [],
            "description": "",
            "_model_name": "HTMLModel",
            "placeholder": "​",
            "_view_module": "@jupyter-widgets/controls",
            "_model_module_version": "1.5.0",
            "value": " 1663320064/? [00:40&lt;00:00, 86750248.65it/s]",
            "_view_count": null,
            "_view_module_version": "1.5.0",
            "description_tooltip": null,
            "_model_module": "@jupyter-widgets/controls",
            "layout": "IPY_MODEL_41fde8a7ba3a4544b84c28726f23c1b4"
          }
        },
        "b0e346faa3f047ed9a1509c5d95a7f8d": {
          "model_module": "@jupyter-widgets/controls",
          "model_name": "ProgressStyleModel",
          "state": {
            "_view_name": "StyleView",
            "_model_name": "ProgressStyleModel",
            "description_width": "initial",
            "_view_module": "@jupyter-widgets/base",
            "_model_module_version": "1.5.0",
            "_view_count": null,
            "_view_module_version": "1.2.0",
            "bar_color": null,
            "_model_module": "@jupyter-widgets/controls"
          }
        },
        "2010349524254256a1577bbfe50ef55c": {
          "model_module": "@jupyter-widgets/base",
          "model_name": "LayoutModel",
          "state": {
            "_view_name": "LayoutView",
            "grid_template_rows": null,
            "right": null,
            "justify_content": null,
            "_view_module": "@jupyter-widgets/base",
            "overflow": null,
            "_model_module_version": "1.2.0",
            "_view_count": null,
            "flex_flow": null,
            "width": null,
            "min_width": null,
            "border": null,
            "align_items": null,
            "bottom": null,
            "_model_module": "@jupyter-widgets/base",
            "top": null,
            "grid_column": null,
            "overflow_y": null,
            "overflow_x": null,
            "grid_auto_flow": null,
            "grid_area": null,
            "grid_template_columns": null,
            "flex": null,
            "_model_name": "LayoutModel",
            "justify_items": null,
            "grid_row": null,
            "max_height": null,
            "align_content": null,
            "visibility": null,
            "align_self": null,
            "height": null,
            "min_height": null,
            "padding": null,
            "grid_auto_rows": null,
            "grid_gap": null,
            "max_width": null,
            "order": null,
            "_view_module_version": "1.2.0",
            "grid_template_areas": null,
            "object_position": null,
            "object_fit": null,
            "grid_auto_columns": null,
            "margin": null,
            "display": null,
            "left": null
          }
        },
        "ae060490c38b42189847c7c113dd14f6": {
          "model_module": "@jupyter-widgets/controls",
          "model_name": "DescriptionStyleModel",
          "state": {
            "_view_name": "StyleView",
            "_model_name": "DescriptionStyleModel",
            "description_width": "",
            "_view_module": "@jupyter-widgets/base",
            "_model_module_version": "1.5.0",
            "_view_count": null,
            "_view_module_version": "1.2.0",
            "_model_module": "@jupyter-widgets/controls"
          }
        },
        "41fde8a7ba3a4544b84c28726f23c1b4": {
          "model_module": "@jupyter-widgets/base",
          "model_name": "LayoutModel",
          "state": {
            "_view_name": "LayoutView",
            "grid_template_rows": null,
            "right": null,
            "justify_content": null,
            "_view_module": "@jupyter-widgets/base",
            "overflow": null,
            "_model_module_version": "1.2.0",
            "_view_count": null,
            "flex_flow": null,
            "width": null,
            "min_width": null,
            "border": null,
            "align_items": null,
            "bottom": null,
            "_model_module": "@jupyter-widgets/base",
            "top": null,
            "grid_column": null,
            "overflow_y": null,
            "overflow_x": null,
            "grid_auto_flow": null,
            "grid_area": null,
            "grid_template_columns": null,
            "flex": null,
            "_model_name": "LayoutModel",
            "justify_items": null,
            "grid_row": null,
            "max_height": null,
            "align_content": null,
            "visibility": null,
            "align_self": null,
            "height": null,
            "min_height": null,
            "padding": null,
            "grid_auto_rows": null,
            "grid_gap": null,
            "max_width": null,
            "order": null,
            "_view_module_version": "1.2.0",
            "grid_template_areas": null,
            "object_position": null,
            "object_fit": null,
            "grid_auto_columns": null,
            "margin": null,
            "display": null,
            "left": null
          }
        },
        "151d036be284498f8bfb2607f1e7931a": {
          "model_module": "@jupyter-widgets/controls",
          "model_name": "HBoxModel",
          "state": {
            "_view_name": "HBoxView",
            "_dom_classes": [],
            "_model_name": "HBoxModel",
            "_view_module": "@jupyter-widgets/controls",
            "_model_module_version": "1.5.0",
            "_view_count": null,
            "_view_module_version": "1.5.0",
            "box_style": "",
            "layout": "IPY_MODEL_d3c07a0722e24963b9deea30398b9baa",
            "_model_module": "@jupyter-widgets/controls",
            "children": [
              "IPY_MODEL_602e781166f746d98d32939a71709f92",
              "IPY_MODEL_231afbaa4dc44273a9bb321e8f35aaf5"
            ]
          }
        },
        "d3c07a0722e24963b9deea30398b9baa": {
          "model_module": "@jupyter-widgets/base",
          "model_name": "LayoutModel",
          "state": {
            "_view_name": "LayoutView",
            "grid_template_rows": null,
            "right": null,
            "justify_content": null,
            "_view_module": "@jupyter-widgets/base",
            "overflow": null,
            "_model_module_version": "1.2.0",
            "_view_count": null,
            "flex_flow": null,
            "width": null,
            "min_width": null,
            "border": null,
            "align_items": null,
            "bottom": null,
            "_model_module": "@jupyter-widgets/base",
            "top": null,
            "grid_column": null,
            "overflow_y": null,
            "overflow_x": null,
            "grid_auto_flow": null,
            "grid_area": null,
            "grid_template_columns": null,
            "flex": null,
            "_model_name": "LayoutModel",
            "justify_items": null,
            "grid_row": null,
            "max_height": null,
            "align_content": null,
            "visibility": null,
            "align_self": null,
            "height": null,
            "min_height": null,
            "padding": null,
            "grid_auto_rows": null,
            "grid_gap": null,
            "max_width": null,
            "order": null,
            "_view_module_version": "1.2.0",
            "grid_template_areas": null,
            "object_position": null,
            "object_fit": null,
            "grid_auto_columns": null,
            "margin": null,
            "display": null,
            "left": null
          }
        },
        "602e781166f746d98d32939a71709f92": {
          "model_module": "@jupyter-widgets/controls",
          "model_name": "IntProgressModel",
          "state": {
            "_view_name": "ProgressView",
            "style": "IPY_MODEL_670c074482ba4574b52962d058b41690",
            "_dom_classes": [],
            "description": "100%",
            "_model_name": "IntProgressModel",
            "bar_style": "success",
            "max": 46827520,
            "_view_module": "@jupyter-widgets/controls",
            "_model_module_version": "1.5.0",
            "value": 46827520,
            "_view_count": null,
            "_view_module_version": "1.5.0",
            "orientation": "horizontal",
            "min": 0,
            "description_tooltip": null,
            "_model_module": "@jupyter-widgets/controls",
            "layout": "IPY_MODEL_6327cb11bf574713819be22c64c17ee5"
          }
        },
        "231afbaa4dc44273a9bb321e8f35aaf5": {
          "model_module": "@jupyter-widgets/controls",
          "model_name": "HTMLModel",
          "state": {
            "_view_name": "HTMLView",
            "style": "IPY_MODEL_f1db65933d754aceb8107e0b4c2ff280",
            "_dom_classes": [],
            "description": "",
            "_model_name": "HTMLModel",
            "placeholder": "​",
            "_view_module": "@jupyter-widgets/controls",
            "_model_module_version": "1.5.0",
            "value": " 44.7M/44.7M [00:40&lt;00:00, 1.17MB/s]",
            "_view_count": null,
            "_view_module_version": "1.5.0",
            "description_tooltip": null,
            "_model_module": "@jupyter-widgets/controls",
            "layout": "IPY_MODEL_49883ce4f095407b9b7894edb597be91"
          }
        },
        "670c074482ba4574b52962d058b41690": {
          "model_module": "@jupyter-widgets/controls",
          "model_name": "ProgressStyleModel",
          "state": {
            "_view_name": "StyleView",
            "_model_name": "ProgressStyleModel",
            "description_width": "initial",
            "_view_module": "@jupyter-widgets/base",
            "_model_module_version": "1.5.0",
            "_view_count": null,
            "_view_module_version": "1.2.0",
            "bar_color": null,
            "_model_module": "@jupyter-widgets/controls"
          }
        },
        "6327cb11bf574713819be22c64c17ee5": {
          "model_module": "@jupyter-widgets/base",
          "model_name": "LayoutModel",
          "state": {
            "_view_name": "LayoutView",
            "grid_template_rows": null,
            "right": null,
            "justify_content": null,
            "_view_module": "@jupyter-widgets/base",
            "overflow": null,
            "_model_module_version": "1.2.0",
            "_view_count": null,
            "flex_flow": null,
            "width": null,
            "min_width": null,
            "border": null,
            "align_items": null,
            "bottom": null,
            "_model_module": "@jupyter-widgets/base",
            "top": null,
            "grid_column": null,
            "overflow_y": null,
            "overflow_x": null,
            "grid_auto_flow": null,
            "grid_area": null,
            "grid_template_columns": null,
            "flex": null,
            "_model_name": "LayoutModel",
            "justify_items": null,
            "grid_row": null,
            "max_height": null,
            "align_content": null,
            "visibility": null,
            "align_self": null,
            "height": null,
            "min_height": null,
            "padding": null,
            "grid_auto_rows": null,
            "grid_gap": null,
            "max_width": null,
            "order": null,
            "_view_module_version": "1.2.0",
            "grid_template_areas": null,
            "object_position": null,
            "object_fit": null,
            "grid_auto_columns": null,
            "margin": null,
            "display": null,
            "left": null
          }
        },
        "f1db65933d754aceb8107e0b4c2ff280": {
          "model_module": "@jupyter-widgets/controls",
          "model_name": "DescriptionStyleModel",
          "state": {
            "_view_name": "StyleView",
            "_model_name": "DescriptionStyleModel",
            "description_width": "",
            "_view_module": "@jupyter-widgets/base",
            "_model_module_version": "1.5.0",
            "_view_count": null,
            "_view_module_version": "1.2.0",
            "_model_module": "@jupyter-widgets/controls"
          }
        },
        "49883ce4f095407b9b7894edb597be91": {
          "model_module": "@jupyter-widgets/base",
          "model_name": "LayoutModel",
          "state": {
            "_view_name": "LayoutView",
            "grid_template_rows": null,
            "right": null,
            "justify_content": null,
            "_view_module": "@jupyter-widgets/base",
            "overflow": null,
            "_model_module_version": "1.2.0",
            "_view_count": null,
            "flex_flow": null,
            "width": null,
            "min_width": null,
            "border": null,
            "align_items": null,
            "bottom": null,
            "_model_module": "@jupyter-widgets/base",
            "top": null,
            "grid_column": null,
            "overflow_y": null,
            "overflow_x": null,
            "grid_auto_flow": null,
            "grid_area": null,
            "grid_template_columns": null,
            "flex": null,
            "_model_name": "LayoutModel",
            "justify_items": null,
            "grid_row": null,
            "max_height": null,
            "align_content": null,
            "visibility": null,
            "align_self": null,
            "height": null,
            "min_height": null,
            "padding": null,
            "grid_auto_rows": null,
            "grid_gap": null,
            "max_width": null,
            "order": null,
            "_view_module_version": "1.2.0",
            "grid_template_areas": null,
            "object_position": null,
            "object_fit": null,
            "grid_auto_columns": null,
            "margin": null,
            "display": null,
            "left": null
          }
        }
      }
    }
  },
  "cells": [
    {
      "cell_type": "markdown",
      "metadata": {
        "id": "oU6pzbMYn2R2",
        "colab_type": "text"
      },
      "source": [
        "## Installs"
      ]
    },
    {
      "cell_type": "code",
      "metadata": {
        "id": "wZhwEjqdnzzP",
        "colab_type": "code",
        "outputId": "edc87d57-8355-45d2-b4f0-0cdb24c3f184",
        "colab": {
          "base_uri": "https://localhost:8080/",
          "height": 139
        }
      },
      "source": [
        "!pip3 install torch\n",
        "!pip3 install torchvision\n",
        "!pip3 install tqdm"
      ],
      "execution_count": 1,
      "outputs": [
        {
          "output_type": "stream",
          "text": [
            "Requirement already satisfied: torch in /usr/local/lib/python3.6/dist-packages (1.4.0)\n",
            "Requirement already satisfied: torchvision in /usr/local/lib/python3.6/dist-packages (0.5.0)\n",
            "Requirement already satisfied: pillow>=4.1.1 in /usr/local/lib/python3.6/dist-packages (from torchvision) (7.0.0)\n",
            "Requirement already satisfied: six in /usr/local/lib/python3.6/dist-packages (from torchvision) (1.12.0)\n",
            "Requirement already satisfied: torch==1.4.0 in /usr/local/lib/python3.6/dist-packages (from torchvision) (1.4.0)\n",
            "Requirement already satisfied: numpy in /usr/local/lib/python3.6/dist-packages (from torchvision) (1.18.2)\n",
            "Requirement already satisfied: tqdm in /usr/local/lib/python3.6/dist-packages (4.38.0)\n"
          ],
          "name": "stdout"
        }
      ]
    },
    {
      "cell_type": "markdown",
      "metadata": {
        "id": "Q1FaHLhDeG0j",
        "colab_type": "text"
      },
      "source": [
        "## Imports"
      ]
    },
    {
      "cell_type": "code",
      "metadata": {
        "id": "zSdSV2Z_d7Zo",
        "colab_type": "code",
        "colab": {}
      },
      "source": [
        "from __future__ import print_function, division\n",
        "\n",
        "import torch\n",
        "import torch.nn as nn\n",
        "import torch.nn.functional as F\n",
        "import torch.optim as optim\n",
        "from torch.utils.data import Dataset, DataLoader\n",
        "import numpy as np\n",
        "from torchvision import transforms, utils, datasets\n",
        "import torchvision.models as models\n",
        "from tqdm import tqdm\n",
        "from torch.nn.parameter import Parameter\n",
        "import pdb\n",
        "import torchvision\n",
        "import os\n",
        "import sys\n",
        "import gzip\n",
        "import tarfile\n",
        "import gc\n",
        "from PIL import Image\n",
        "import pandas as pd\n",
        "from skimage import io, transform\n",
        "import matplotlib.pyplot as plt\n",
        "import re\n",
        "\n",
        "from IPython.core.ultratb import AutoFormattedTB\n",
        "\n",
        "assert torch.cuda.is_available()"
      ],
      "execution_count": 0,
      "outputs": []
    },
    {
      "cell_type": "markdown",
      "metadata": {
        "id": "jeJdpQtvetqj",
        "colab_type": "text"
      },
      "source": [
        "#Get Data"
      ]
    },
    {
      "cell_type": "code",
      "metadata": {
        "id": "ocnDSuY6d-TH",
        "colab_type": "code",
        "outputId": "aafa3d83-7b90-4567-9c09-788e034b8195",
        "colab": {
          "base_uri": "https://localhost:8080/",
          "height": 67,
          "referenced_widgets": [
            "f4954f169e4141b282274b6998e27b82",
            "bb3119d8e3514a56af2478444e45f459",
            "d209224816e741a9b67096b812202952",
            "aded5ea46f5b41928cff63904a2f2c06",
            "b0e346faa3f047ed9a1509c5d95a7f8d",
            "2010349524254256a1577bbfe50ef55c",
            "ae060490c38b42189847c7c113dd14f6",
            "41fde8a7ba3a4544b84c28726f23c1b4"
          ]
        }
      },
      "source": [
        "# Load data\n",
        "import zipfile\n",
        "root = \".\"\n",
        "datasets.utils.download_url('https://jspen14-data.s3.amazonaws.com/sample.zip', root, 'sample.zip', None)\n",
        "\n",
        "with zipfile.ZipFile(\"sample.zip\",\"r\") as zip_ref:\n",
        "  zip_ref.extractall(\"data/\")"
      ],
      "execution_count": 3,
      "outputs": [
        {
          "output_type": "stream",
          "text": [
            "Downloading https://jspen14-data.s3.amazonaws.com/sample.zip to ./sample.zip\n"
          ],
          "name": "stdout"
        },
        {
          "output_type": "display_data",
          "data": {
            "application/vnd.jupyter.widget-view+json": {
              "model_id": "f4954f169e4141b282274b6998e27b82",
              "version_minor": 0,
              "version_major": 2
            },
            "text/plain": [
              "HBox(children=(IntProgress(value=1, bar_style='info', max=1), HTML(value='')))"
            ]
          },
          "metadata": {
            "tags": []
          }
        }
      ]
    },
    {
      "cell_type": "markdown",
      "metadata": {
        "id": "2mYKdNM2Gc7_",
        "colab_type": "text"
      },
      "source": [
        "# Change Directory Structure"
      ]
    },
    {
      "cell_type": "code",
      "metadata": {
        "id": "4_8NL844DPKb",
        "colab_type": "code",
        "colab": {}
      },
      "source": [
        "mv data/jsDataSample/* ."
      ],
      "execution_count": 0,
      "outputs": []
    },
    {
      "cell_type": "markdown",
      "metadata": {
        "id": "bWb-TijDoyYa",
        "colab_type": "text"
      },
      "source": [
        "# Dataloader"
      ]
    },
    {
      "cell_type": "code",
      "metadata": {
        "id": "F-1Y4I3rmd53",
        "colab_type": "code",
        "colab": {}
      },
      "source": [
        "class RecursionDataset(Dataset):\n",
        "    \"\"\"Recursion Dataset for Big Data Capstone.\"\"\"\n",
        "\n",
        "    def __init__(self, csv_file1, root_dir, csv_file2=None, transform=None):\n",
        "        \"\"\"\n",
        "        Args:\n",
        "            csv_file1 (string): Path to the csv file with most annotations.\n",
        "            root_dir (string): Directory with all the batch folders containing images.\n",
        "            csv_file2 (string): Path to the csv file with control annotations.\n",
        "            transform (callable, optional): Optional transform to be applied\n",
        "                on a sample.\n",
        "        \"\"\"\n",
        "        self.transform = transform\n",
        "\n",
        "        self.csv = pd.read_csv(csv_file1)\n",
        "        if csv_file2 != None:\n",
        "            csv2 = pd.read_csv(csv_file2).loc[:,'id_code':'sirna']\n",
        "            self.csv = pd.concat([self.csv, csv2])\\\n",
        "                         .reset_index(drop=True)\n",
        "        self.csv['plate'] = 'Plate'+self.csv['plate'].astype(str) # Mimic folder naming for loading pics later\n",
        "        \n",
        "        # Create variable for both sites 1 and 2 of each well\n",
        "        self.csv['site'] = 's1'\n",
        "        csv_copy = self.csv.copy()\n",
        "        csv_copy['site'] = 's2'\n",
        "        self.csv = pd.concat([self.csv, csv_copy])\\\n",
        "                     .sort_values(['id_code', 'site'])\\\n",
        "                     .reset_index(drop=True)\n",
        "\n",
        "        # Missing pictures that must be removed from csv file\n",
        "        missingPics = [['HUVEC-06_1_B18', 's2'], ['RPE-04_3_E04', 's1']]\n",
        "        for pic in missingPics:\n",
        "          self.csv = self.csv[~((self.csv['id_code'] == pic[0]) & (self.csv['site'] == pic[1]))]\n",
        "\n",
        "        #NOTE: FILTERING TO ONLY THE PICS OF TRAINING BATCH HEPG2-01\n",
        "        self.csv = self.csv[self.csv.experiment=='HEPG2-01']\n",
        "        #NOTE: RENAMING SIRNA CLASSES TO RANGE FROM [0,C-1]\n",
        "        self.size = 64# NOTE\n",
        "        self.csv = self.csv[:self.size]\n",
        "        self.seen = {}\n",
        "        new_class = 0\n",
        "        for i in range(self.csv.shape[0]):\n",
        "          sirna = self.csv['sirna'][i]\n",
        "          if sirna not in self.seen:\n",
        "            self.seen[sirna] = str(new_class)\n",
        "            self.csv['sirna'][i] = str(new_class)\n",
        "            new_class += 1\n",
        "          else:\n",
        "            self.csv['sirna'][i] = self.seen[sirna]\n",
        "        self.num_classes = len(self.seen)\n",
        "\n",
        "        self.root_dir = root_dir\n",
        "        # The mean and stds for each of the channels\n",
        "        self.GLOBAL_PIXEL_STATS = (torch.tensor([6.74696984, 14.74640167, 10.51260864,\n",
        "                                             10.45369445,  5.49959796, 9.81545561]).reshape((-1,1,1)),\n",
        "                                   torch.tensor([7.95876312, 12.17305868, 5.86172946,\n",
        "                                             7.83451711, 4.701167, 5.43130431]).reshape((-1,1,1)))\n",
        "    \n",
        "    def __len__(self):\n",
        "        return self.size #self.csv.shape[0]\n",
        "\n",
        "    def __getitem__(self, idx):\n",
        "        # Generate full filename of image from csv file row info\n",
        "        pathParts = self.csv.iloc[idx,:]\n",
        "        pathGen = os.path.join(self.root_dir, pathParts['experiment'], pathParts['plate'])\n",
        "        filenameGen = pathParts['well']+'_'+pathParts['site']+'_w'\n",
        "        for i in range(1,7):\n",
        "            filenameFull = filenameGen+str(i)+'.png'\n",
        "            pathFull = os.path.join(pathGen, filenameFull)\n",
        "            image = io.imread(pathFull)\n",
        "            if i == 1:\n",
        "                totalTensor = torch.from_numpy(image).unsqueeze(0)\n",
        "            else:\n",
        "                imageTensor = torch.from_numpy(image).unsqueeze(0)\n",
        "                totalTensor = torch.cat( (totalTensor, imageTensor), 0)\n",
        "        \n",
        "        try:\n",
        "            sirna = self.csv.iloc[idx,:].loc['sirna']\n",
        "        except:\n",
        "            sirna = -2\n",
        "        \n",
        "        if sirna=='UNTREATED': sirna = -1\n",
        "        else: sirna = float(re.search('[0-9]+', sirna).group())\n",
        "        sirnaTensor = torch.tensor([sirna])\n",
        "\n",
        "        # Normalize data using global pixel stats\n",
        "        totalTensor = (totalTensor-self.GLOBAL_PIXEL_STATS[0]) / self.GLOBAL_PIXEL_STATS[1]\n",
        "\n",
        "        # Apply transformation\n",
        "        if self.transform != None:\n",
        "            toPil = transforms.ToPILImage()\n",
        "            randTransform = transforms.RandomOrder(self.transform)\n",
        "            toTensor = transforms.ToTensor()\n",
        "            tensorHalves = torch.split(totalTensor, 3, dim=0)\n",
        "            for half in tensorHalves:\n",
        "              half = toTensor(randTransform(toPil(half)))\n",
        "            totalTensor = torch.cat(tensorHalves, dim=0)\n",
        "\n",
        "        return totalTensor.float(), sirnaTensor.float()"
      ],
      "execution_count": 0,
      "outputs": []
    },
    {
      "cell_type": "code",
      "metadata": {
        "id": "Y9o68HsBLErW",
        "colab_type": "code",
        "outputId": "3527b103-49b5-416d-aa7d-00527b4d8d29",
        "colab": {
          "base_uri": "https://localhost:8080/",
          "height": 500,
          "referenced_widgets": [
            "151d036be284498f8bfb2607f1e7931a",
            "d3c07a0722e24963b9deea30398b9baa",
            "602e781166f746d98d32939a71709f92",
            "231afbaa4dc44273a9bb321e8f35aaf5",
            "670c074482ba4574b52962d058b41690",
            "6327cb11bf574713819be22c64c17ee5",
            "f1db65933d754aceb8107e0b4c2ff280",
            "49883ce4f095407b9b7894edb597be91"
          ]
        }
      },
      "source": [
        "rotations = [transforms.RandomRotation((90,90)),transforms.RandomRotation((180,180)),transforms.RandomRotation((270,270)), transforms.RandomRotation((0,0))]\n",
        "transformList = [transforms.RandomHorizontalFlip(), transforms.RandomChoice(rotations)]\n",
        "test_dataset = RecursionDataset(csv_file1='train-labels/train.csv',\n",
        "                                root_dir='train-data',\n",
        "                                csv_file2='train-labels/train_controls.csv',\n",
        "                                transform=transformList)\n",
        "\n",
        "model = models.resnet18(pretrained=True)\n",
        "\n",
        "weights = model.conv1.weight\n",
        "model.conv1 = nn.Conv2d(6, 64, kernel_size=(7, 7), stride=(2, 2), padding=(3, 3), bias=False)\n",
        "model.fc = nn.Linear(in_features=512, out_features=test_dataset.num_classes, bias=True)\n",
        "#model.conv1.weights = torch.cat((weights,weights), dim=1)\n",
        "\n",
        "'''for param in model.named_parameters():\n",
        "  if param[1].dim() > 1:\n",
        "    nn.init.xavier_normal_(param[1])\n",
        "  else:\n",
        "    nn.init.normal_(param[1])'''\n",
        "\n",
        "model.cuda()\n",
        "objective = nn.CrossEntropyLoss()\n",
        "optimizer = optim.Adam(model.parameters(), lr=1e-4, weight_decay=1e-4) #optim.SGD(model.parameters(), lr=.0001, momentum=0.9, weight_decay=1e-4, nesterov=True) #\n",
        "\n",
        "losses = []\n",
        "full_loss = []\n",
        "full_acc = []\n",
        "\n",
        "scheduler = optim.lr_scheduler.CosineAnnealingWarmRestarts(optimizer, T_0=1, T_mult=1)\n",
        "loss_report = 0\n",
        "acc_report = 0\n",
        "dataloader = DataLoader(test_dataset, batch_size=4, pin_memory=True, shuffle=True)\n",
        "iters = len(dataloader)\n",
        "for epoch in range(5):\n",
        "  loop = tqdm(total=len(dataloader), position=0, file=sys.stdout)\n",
        "\n",
        "  for batch, (x, y_truth) in enumerate(dataloader):\n",
        "    \n",
        "    x, y_truth = x.cuda(async=True), y_truth.cuda(async=True)\n",
        "    y_truth = y_truth.type(torch.cuda.LongTensor).squeeze(1) #NOTE: making y_hat a 1D tensor for crossEnropyLoss function\n",
        "\n",
        "    #scheduler.step(epoch + batch / iters)\n",
        "    optimizer.zero_grad()\n",
        "    y_hat = model(x)\n",
        "\n",
        "    loss = objective(y_hat, y_truth)\n",
        "    \n",
        "    loss.backward()\n",
        "    \n",
        "    losses.append(loss)\n",
        "\n",
        "    loop.set_description('epoch:{}, batch loss:{:.4f}, avg train loss:{:.3f}, train acc:{:.6f}, lr: {:.6f}'.format(epoch, loss, loss_report, acc_report, optimizer.param_groups[0]['lr']))\n",
        "    loop.update(1)\n",
        "\n",
        "    optimizer.step()\n",
        "\n",
        "  loop.close()\n",
        "\n",
        "  print('\\nGround Truth:', ' '.join('%5s' % y_truth[j].item() for j in range(4)))\n",
        "  _, predicted = torch.max(y_hat, 1)\n",
        "  print('Predicted: ', ' '.join('%5s' % predicted[j].item() for j in range(4)))\n",
        "\n",
        "total = 0\n",
        "correct = 0\n",
        "loop = tqdm(total=len(dataloader), position=0)\n",
        "for images, labels in dataloader:\n",
        "  images, labels = images.cuda(async=True), labels.cuda(async=True)\n",
        "  labels = labels.type(torch.cuda.LongTensor).squeeze(1)\n",
        "  y_hat = model(x)\n",
        "  _, predicted = torch.max(y_hat, 1)\n",
        "  total += labels.size(0)\n",
        "  correct += (predicted == y_truth).sum().item()\n",
        "  loop.update(1)\n",
        "loop.close()\n",
        "acc_report = correct/total\n",
        "print('Accuracy:', acc_report)\n",
        "  \n",
        "gc.collect()\n",
        "print('GPU Mem Used:', torch.cuda.memory_allocated(0) / 1e9)"
      ],
      "execution_count": 6,
      "outputs": [
        {
          "output_type": "stream",
          "text": [
            "Downloading: \"https://download.pytorch.org/models/resnet18-5c106cde.pth\" to /root/.cache/torch/checkpoints/resnet18-5c106cde.pth\n"
          ],
          "name": "stderr"
        },
        {
          "output_type": "display_data",
          "data": {
            "application/vnd.jupyter.widget-view+json": {
              "model_id": "151d036be284498f8bfb2607f1e7931a",
              "version_minor": 0,
              "version_major": 2
            },
            "text/plain": [
              "HBox(children=(IntProgress(value=0, max=46827520), HTML(value='')))"
            ]
          },
          "metadata": {
            "tags": []
          }
        },
        {
          "output_type": "stream",
          "text": [
            "\n",
            "epoch:0, batch loss:3.3736, avg train loss:0.000, train acc:0.000000, lr: 0.000100: 100%|██████████| 16/16 [00:05<00:00,  2.89it/s]\n",
            "\n",
            "Ground Truth:    11    20    27    11\n",
            "Predicted:      8    13    26     6\n",
            "epoch:1, batch loss:2.7352, avg train loss:0.000, train acc:0.000000, lr: 0.000100: 100%|██████████| 16/16 [00:05<00:00,  3.11it/s]\n",
            "\n",
            "Ground Truth:    19    23     1    26\n",
            "Predicted:     19     0    12    31\n",
            "epoch:2, batch loss:2.4186, avg train loss:0.000, train acc:0.000000, lr: 0.000100: 100%|██████████| 16/16 [00:05<00:00,  3.14it/s]\n",
            "\n",
            "Ground Truth:    10    16     7     9\n",
            "Predicted:     15    16    31     9\n",
            "epoch:3, batch loss:2.8778, avg train loss:0.000, train acc:0.000000, lr: 0.000100: 100%|██████████| 16/16 [00:05<00:00,  3.16it/s]\n",
            "\n",
            "Ground Truth:    24     8     7     1\n",
            "Predicted:     27    23     5     1\n",
            "epoch:4, batch loss:1.4208, avg train loss:0.000, train acc:0.000000, lr: 0.000100: 100%|██████████| 16/16 [00:05<00:00,  3.16it/s]"
          ],
          "name": "stdout"
        },
        {
          "output_type": "stream",
          "text": [
            "\r  0%|          | 0/16 [00:00<?, ?it/s]"
          ],
          "name": "stderr"
        },
        {
          "output_type": "stream",
          "text": [
            "\n",
            "\n",
            "Ground Truth:    15     2     8    24\n",
            "Predicted:     15     2     8     7\n"
          ],
          "name": "stdout"
        },
        {
          "output_type": "stream",
          "text": [
            "100%|██████████| 16/16 [00:04<00:00,  3.96it/s]"
          ],
          "name": "stderr"
        },
        {
          "output_type": "stream",
          "text": [
            "Accuracy: 0.75\n",
            "GPU Mem Used: 0.686641664\n"
          ],
          "name": "stdout"
        },
        {
          "output_type": "stream",
          "text": [
            "\n"
          ],
          "name": "stderr"
        }
      ]
    }
  ]
}